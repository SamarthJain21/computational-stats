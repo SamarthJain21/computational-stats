{
 "cells": [
  {
   "cell_type": "code",
   "execution_count": 12,
   "id": "e86336f1",
   "metadata": {},
   "outputs": [],
   "source": [
    "import numpy as np\n",
    "import pandas as pd\n",
    "import math\n",
    "import matplotlib.pyplot as plt\n",
    "from sklearn.linear_model import LinearRegression\n",
    "import warnings\n",
    "warnings.filterwarnings('ignore')"
   ]
  },
  {
   "cell_type": "code",
   "execution_count": 29,
   "id": "a7924fd6",
   "metadata": {},
   "outputs": [],
   "source": [
    "df = pd.read_csv(r'insurance.csv')\n",
    "max = 1\n",
    "for i in range(0,1338):\n",
    "    if(df['charges'][i]>max):\n",
    "        max = df['charges'][i]\n",
    "for i in range(0,1338):\n",
    "    df['charges'][i] = df['charges'][i]*54/max\n",
    "    \n",
    "for i in range(0,len(df)):\n",
    "    if(df['smoker'][i]==\"yes\"):\n",
    "        df['smoker'][i]=float(1.0)\n",
    "    else:\n",
    "        df['smoker'][i]=float(0)\n",
    "\n",
    "for i in range(0,len(df)):\n",
    "    if(df['sex'][i]==\"female\"):\n",
    "        df['sex'][i]=float(1.0)\n",
    "    else:\n",
    "        df['sex'][i]=float(0)\n",
    "# df.values\n",
    "df = df.drop(columns = 'region')\n",
    "\n",
    "df\n",
    "y = df['charges']\n"
   ]
  },
  {
   "cell_type": "code",
   "execution_count": 30,
   "id": "261060ce",
   "metadata": {},
   "outputs": [],
   "source": [
    "x0 = []\n",
    "for i in range(len(df)):\n",
    "    x0.append(1)\n",
    "x0\n",
    "\n",
    "df.insert(0,'X0',x0)\n",
    "# dfa = df.values"
   ]
  },
  {
   "cell_type": "code",
   "execution_count": 32,
   "id": "21b06e5d",
   "metadata": {},
   "outputs": [
    {
     "data": {
      "text/html": [
       "<div>\n",
       "<style scoped>\n",
       "    .dataframe tbody tr th:only-of-type {\n",
       "        vertical-align: middle;\n",
       "    }\n",
       "\n",
       "    .dataframe tbody tr th {\n",
       "        vertical-align: top;\n",
       "    }\n",
       "\n",
       "    .dataframe thead th {\n",
       "        text-align: right;\n",
       "    }\n",
       "</style>\n",
       "<table border=\"1\" class=\"dataframe\">\n",
       "  <thead>\n",
       "    <tr style=\"text-align: right;\">\n",
       "      <th></th>\n",
       "      <th>X0</th>\n",
       "      <th>age</th>\n",
       "      <th>sex</th>\n",
       "      <th>bmi</th>\n",
       "      <th>children</th>\n",
       "      <th>smoker</th>\n",
       "      <th>charges</th>\n",
       "    </tr>\n",
       "  </thead>\n",
       "  <tbody>\n",
       "    <tr>\n",
       "      <th>0</th>\n",
       "      <td>1</td>\n",
       "      <td>19</td>\n",
       "      <td>1.0</td>\n",
       "      <td>27.900</td>\n",
       "      <td>0</td>\n",
       "      <td>1.0</td>\n",
       "      <td>14.297942</td>\n",
       "    </tr>\n",
       "    <tr>\n",
       "      <th>1</th>\n",
       "      <td>1</td>\n",
       "      <td>18</td>\n",
       "      <td>0.0</td>\n",
       "      <td>33.770</td>\n",
       "      <td>1</td>\n",
       "      <td>0.0</td>\n",
       "      <td>1.461176</td>\n",
       "    </tr>\n",
       "    <tr>\n",
       "      <th>2</th>\n",
       "      <td>1</td>\n",
       "      <td>28</td>\n",
       "      <td>0.0</td>\n",
       "      <td>33.000</td>\n",
       "      <td>3</td>\n",
       "      <td>0.0</td>\n",
       "      <td>3.767749</td>\n",
       "    </tr>\n",
       "    <tr>\n",
       "      <th>3</th>\n",
       "      <td>1</td>\n",
       "      <td>33</td>\n",
       "      <td>0.0</td>\n",
       "      <td>22.705</td>\n",
       "      <td>0</td>\n",
       "      <td>0.0</td>\n",
       "      <td>18.616174</td>\n",
       "    </tr>\n",
       "    <tr>\n",
       "      <th>4</th>\n",
       "      <td>1</td>\n",
       "      <td>32</td>\n",
       "      <td>0.0</td>\n",
       "      <td>28.880</td>\n",
       "      <td>0</td>\n",
       "      <td>0.0</td>\n",
       "      <td>3.274405</td>\n",
       "    </tr>\n",
       "    <tr>\n",
       "      <th>...</th>\n",
       "      <td>...</td>\n",
       "      <td>...</td>\n",
       "      <td>...</td>\n",
       "      <td>...</td>\n",
       "      <td>...</td>\n",
       "      <td>...</td>\n",
       "      <td>...</td>\n",
       "    </tr>\n",
       "    <tr>\n",
       "      <th>1333</th>\n",
       "      <td>1</td>\n",
       "      <td>50</td>\n",
       "      <td>0.0</td>\n",
       "      <td>30.970</td>\n",
       "      <td>3</td>\n",
       "      <td>0.0</td>\n",
       "      <td>8.976412</td>\n",
       "    </tr>\n",
       "    <tr>\n",
       "      <th>1334</th>\n",
       "      <td>1</td>\n",
       "      <td>18</td>\n",
       "      <td>1.0</td>\n",
       "      <td>31.920</td>\n",
       "      <td>0</td>\n",
       "      <td>0.0</td>\n",
       "      <td>1.867997</td>\n",
       "    </tr>\n",
       "    <tr>\n",
       "      <th>1335</th>\n",
       "      <td>1</td>\n",
       "      <td>18</td>\n",
       "      <td>1.0</td>\n",
       "      <td>36.850</td>\n",
       "      <td>0</td>\n",
       "      <td>0.0</td>\n",
       "      <td>1.380123</td>\n",
       "    </tr>\n",
       "    <tr>\n",
       "      <th>1336</th>\n",
       "      <td>1</td>\n",
       "      <td>21</td>\n",
       "      <td>1.0</td>\n",
       "      <td>25.800</td>\n",
       "      <td>0</td>\n",
       "      <td>0.0</td>\n",
       "      <td>1.700303</td>\n",
       "    </tr>\n",
       "    <tr>\n",
       "      <th>1337</th>\n",
       "      <td>1</td>\n",
       "      <td>61</td>\n",
       "      <td>1.0</td>\n",
       "      <td>29.070</td>\n",
       "      <td>0</td>\n",
       "      <td>1.0</td>\n",
       "      <td>24.676539</td>\n",
       "    </tr>\n",
       "  </tbody>\n",
       "</table>\n",
       "<p>1338 rows × 7 columns</p>\n",
       "</div>"
      ],
      "text/plain": [
       "      X0  age  sex     bmi  children smoker    charges\n",
       "0      1   19  1.0  27.900         0    1.0  14.297942\n",
       "1      1   18  0.0  33.770         1    0.0   1.461176\n",
       "2      1   28  0.0  33.000         3    0.0   3.767749\n",
       "3      1   33  0.0  22.705         0    0.0  18.616174\n",
       "4      1   32  0.0  28.880         0    0.0   3.274405\n",
       "...   ..  ...  ...     ...       ...    ...        ...\n",
       "1333   1   50  0.0  30.970         3    0.0   8.976412\n",
       "1334   1   18  1.0  31.920         0    0.0   1.867997\n",
       "1335   1   18  1.0  36.850         0    0.0   1.380123\n",
       "1336   1   21  1.0  25.800         0    0.0   1.700303\n",
       "1337   1   61  1.0  29.070         0    1.0  24.676539\n",
       "\n",
       "[1338 rows x 7 columns]"
      ]
     },
     "execution_count": 32,
     "metadata": {},
     "output_type": "execute_result"
    }
   ],
   "source": [
    "df"
   ]
  },
  {
   "cell_type": "code",
   "execution_count": 33,
   "id": "dfaa670a",
   "metadata": {},
   "outputs": [],
   "source": [
    "def beta(X,Y):\n",
    "    X = np.array(X)\n",
    "    Y = np.array(Y) \n",
    "    beta = np.matmul(np.transpose(X),X)\n",
    "    beta = np.matmul(np.linalg.inv(beta),np.matmul(np.transpose(X),Y))\n",
    "    return beta"
   ]
  },
  {
   "cell_type": "code",
   "execution_count": 34,
   "id": "01c9cd38",
   "metadata": {},
   "outputs": [
    {
     "data": {
      "text/plain": [
       "array([ 5.96855898e-13,  2.22044605e-16, -1.44551038e-13, -1.13242749e-14,\n",
       "        0.00000000e+00,  9.94759830e-14,  1.00000000e+00])"
      ]
     },
     "execution_count": 34,
     "metadata": {},
     "output_type": "execute_result"
    }
   ],
   "source": [
    "df.sex = df.sex.astype(float)\n",
    "df.smoker = df.smoker.astype(float)\n",
    "df.dtypes\n",
    "beta = beta(df,y)\n",
    "beta"
   ]
  },
  {
   "cell_type": "code",
   "execution_count": 35,
   "id": "3d3cf70a",
   "metadata": {},
   "outputs": [],
   "source": [
    "data1 = np.array(df)\n",
    "X1 = data1[:,1]\n",
    "X2 = data1[:,2]\n",
    "X3 = data1[:,3]\n",
    "X4 = data1[:,4]\n",
    "X5 = data1[:,5]\n",
    "\n",
    "y1 = beta[0]+beta[1]*X1+beta[2]*X2+beta[3]*X3+beta[4]*X4+beta[5]*X5"
   ]
  },
  {
   "cell_type": "code",
   "execution_count": 37,
   "id": "9d0b21fd",
   "metadata": {},
   "outputs": [
    {
     "data": {
      "text/plain": [
       "array([11.23722742])"
      ]
     },
     "execution_count": 37,
     "metadata": {},
     "output_type": "execute_result"
    }
   ],
   "source": [
    "y1 = (y1-np.array(y))**2\n",
    "rmsq = np.sum(y)/np.shape(y)\n",
    "rmsq"
   ]
  },
  {
   "cell_type": "code",
   "execution_count": null,
   "id": "4c7e2898",
   "metadata": {},
   "outputs": [],
   "source": [
    "## print(\"Please tell your\",choiceCategory)\n",
    "bmiInput = float(input())\n",
    "# yPredicted = int(B0 + B1*bmiInput)*max\n",
    "yPredicted = yPred(bmiInput)\n",
    "print(\"You will have to pay around rupees\",yPredicted*max,\"for your insurance\")\n"
   ]
  }
 ],
 "metadata": {
  "kernelspec": {
   "display_name": "Python 3",
   "language": "python",
   "name": "python3"
  },
  "language_info": {
   "codemirror_mode": {
    "name": "ipython",
    "version": 3
   },
   "file_extension": ".py",
   "mimetype": "text/x-python",
   "name": "python",
   "nbconvert_exporter": "python",
   "pygments_lexer": "ipython3",
   "version": "3.8.8"
  }
 },
 "nbformat": 4,
 "nbformat_minor": 5
}
