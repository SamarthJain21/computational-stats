{
 "cells": [
  {
   "cell_type": "code",
   "execution_count": 1,
   "id": "2366acf8",
   "metadata": {},
   "outputs": [],
   "source": [
    "import numpy as np\n",
    "import pandas as pd\n",
    "import math\n",
    "import matplotlib.pyplot as plt\n",
    "from sklearn.linear_model import LinearRegression"
   ]
  },
  {
   "cell_type": "code",
   "execution_count": 2,
   "id": "830a2592",
   "metadata": {
    "scrolled": true
   },
   "outputs": [
    {
     "data": {
      "text/html": [
       "<div>\n",
       "<style scoped>\n",
       "    .dataframe tbody tr th:only-of-type {\n",
       "        vertical-align: middle;\n",
       "    }\n",
       "\n",
       "    .dataframe tbody tr th {\n",
       "        vertical-align: top;\n",
       "    }\n",
       "\n",
       "    .dataframe thead th {\n",
       "        text-align: right;\n",
       "    }\n",
       "</style>\n",
       "<table border=\"1\" class=\"dataframe\">\n",
       "  <thead>\n",
       "    <tr style=\"text-align: right;\">\n",
       "      <th></th>\n",
       "      <th>TV</th>\n",
       "      <th>Radio</th>\n",
       "      <th>Newspaper</th>\n",
       "      <th>Sales</th>\n",
       "    </tr>\n",
       "  </thead>\n",
       "  <tbody>\n",
       "    <tr>\n",
       "      <th>0</th>\n",
       "      <td>230.1</td>\n",
       "      <td>37.8</td>\n",
       "      <td>69.2</td>\n",
       "      <td>22.1</td>\n",
       "    </tr>\n",
       "    <tr>\n",
       "      <th>1</th>\n",
       "      <td>44.5</td>\n",
       "      <td>39.3</td>\n",
       "      <td>45.1</td>\n",
       "      <td>10.4</td>\n",
       "    </tr>\n",
       "    <tr>\n",
       "      <th>2</th>\n",
       "      <td>17.2</td>\n",
       "      <td>45.9</td>\n",
       "      <td>69.3</td>\n",
       "      <td>12.0</td>\n",
       "    </tr>\n",
       "    <tr>\n",
       "      <th>3</th>\n",
       "      <td>151.5</td>\n",
       "      <td>41.3</td>\n",
       "      <td>58.5</td>\n",
       "      <td>16.5</td>\n",
       "    </tr>\n",
       "    <tr>\n",
       "      <th>4</th>\n",
       "      <td>180.8</td>\n",
       "      <td>10.8</td>\n",
       "      <td>58.4</td>\n",
       "      <td>17.9</td>\n",
       "    </tr>\n",
       "    <tr>\n",
       "      <th>...</th>\n",
       "      <td>...</td>\n",
       "      <td>...</td>\n",
       "      <td>...</td>\n",
       "      <td>...</td>\n",
       "    </tr>\n",
       "    <tr>\n",
       "      <th>195</th>\n",
       "      <td>38.2</td>\n",
       "      <td>3.7</td>\n",
       "      <td>13.8</td>\n",
       "      <td>7.6</td>\n",
       "    </tr>\n",
       "    <tr>\n",
       "      <th>196</th>\n",
       "      <td>94.2</td>\n",
       "      <td>4.9</td>\n",
       "      <td>8.1</td>\n",
       "      <td>14.0</td>\n",
       "    </tr>\n",
       "    <tr>\n",
       "      <th>197</th>\n",
       "      <td>177.0</td>\n",
       "      <td>9.3</td>\n",
       "      <td>6.4</td>\n",
       "      <td>14.8</td>\n",
       "    </tr>\n",
       "    <tr>\n",
       "      <th>198</th>\n",
       "      <td>283.6</td>\n",
       "      <td>42.0</td>\n",
       "      <td>66.2</td>\n",
       "      <td>25.5</td>\n",
       "    </tr>\n",
       "    <tr>\n",
       "      <th>199</th>\n",
       "      <td>232.1</td>\n",
       "      <td>8.6</td>\n",
       "      <td>8.7</td>\n",
       "      <td>18.4</td>\n",
       "    </tr>\n",
       "  </tbody>\n",
       "</table>\n",
       "<p>200 rows × 4 columns</p>\n",
       "</div>"
      ],
      "text/plain": [
       "        TV  Radio  Newspaper  Sales\n",
       "0    230.1   37.8       69.2   22.1\n",
       "1     44.5   39.3       45.1   10.4\n",
       "2     17.2   45.9       69.3   12.0\n",
       "3    151.5   41.3       58.5   16.5\n",
       "4    180.8   10.8       58.4   17.9\n",
       "..     ...    ...        ...    ...\n",
       "195   38.2    3.7       13.8    7.6\n",
       "196   94.2    4.9        8.1   14.0\n",
       "197  177.0    9.3        6.4   14.8\n",
       "198  283.6   42.0       66.2   25.5\n",
       "199  232.1    8.6        8.7   18.4\n",
       "\n",
       "[200 rows x 4 columns]"
      ]
     },
     "execution_count": 2,
     "metadata": {},
     "output_type": "execute_result"
    }
   ],
   "source": [
    "df=pd.read_csv(r'advertising.csv')\n",
    "df\n",
    "\n",
    "    "
   ]
  },
  {
   "cell_type": "markdown",
   "id": "081febf1",
   "metadata": {},
   "source": [
    "# Defining Constant Data"
   ]
  },
  {
   "cell_type": "code",
   "execution_count": 4,
   "id": "ef099e97",
   "metadata": {},
   "outputs": [],
   "source": [
    "choiceCategory=\"TV\"\n",
    "choiceRange = 300\n",
    "yCategory=\"Sales\""
   ]
  },
  {
   "cell_type": "code",
   "execution_count": 5,
   "id": "7e068a45",
   "metadata": {},
   "outputs": [],
   "source": [
    "# maxChoiceCategory = 0\n",
    "# maxYCategory = 0\n",
    "# a = np.array(df[choiceCategory])\n",
    "# a.max()\n",
    "# for i in range(len(df)):\n",
    "#     df[choiceCategory][i]/=a.max()\n",
    "# b = np.array(df[yCategory])\n",
    "# b.max()\n",
    "# for i in range(len(df)):\n",
    "#     df[yCategory][i]/=b.max()\n",
    "# df"
   ]
  },
  {
   "cell_type": "markdown",
   "id": "f03f7c04",
   "metadata": {},
   "source": [
    "# Scatter plot of the data chosen"
   ]
  },
  {
   "cell_type": "code",
   "execution_count": 6,
   "id": "91f3e371",
   "metadata": {},
   "outputs": [
    {
     "data": {
      "text/plain": [
       "Text(0, 0.5, 'Sales')"
      ]
     },
     "execution_count": 6,
     "metadata": {},
     "output_type": "execute_result"
    },
    {
     "data": {
      "image/png": "[encoded data removed]",
      "text/plain": [
       "<Figure size 432x288 with 1 Axes>"
      ]
     },
     "metadata": {
      "needs_background": "light"
     },
     "output_type": "display_data"
    }
   ],
   "source": [
    "plt.scatter(df[choiceCategory],df[yCategory])\n",
    "plt.xlabel(choiceCategory)\n",
    "plt.ylabel(yCategory)"
   ]
  },
  {
   "cell_type": "markdown",
   "id": "62afffbd",
   "metadata": {},
   "source": [
    "Calculating mean of both variables"
   ]
  },
  {
   "cell_type": "code",
   "execution_count": 7,
   "id": "50fc46ca",
   "metadata": {},
   "outputs": [
    {
     "data": {
      "text/plain": [
       "(147.0425, 15.130500000000005)"
      ]
     },
     "execution_count": 7,
     "metadata": {},
     "output_type": "execute_result"
    }
   ],
   "source": [
    "x_mean = np.mean(df[choiceCategory])\n",
    "y_mean = np.mean(df[yCategory])\n",
    "\n",
    "x_mean, y_mean"
   ]
  },
  {
   "cell_type": "markdown",
   "id": "9580a999",
   "metadata": {},
   "source": [
    "Calculating B1(slope) "
   ]
  },
  {
   "cell_type": "code",
   "execution_count": 8,
   "id": "ca7618a2",
   "metadata": {},
   "outputs": [
    {
     "data": {
      "text/plain": [
       "0.055464770469558854"
      ]
     },
     "execution_count": 8,
     "metadata": {},
     "output_type": "execute_result"
    }
   ],
   "source": [
    "dfx = df[choiceCategory]-x_mean\n",
    "dfy = df[yCategory]-y_mean\n",
    "dfx_sq = dfx*dfx\n",
    "dfxy = dfx*dfy\n",
    "dfxy_sum = dfxy.sum()\n",
    "dfx_sq_sum = dfx_sq.sum()\n",
    "\n",
    "B1 = dfxy_sum/dfx_sq_sum\n",
    "B1"
   ]
  },
  {
   "cell_type": "code",
   "execution_count": 9,
   "id": "ab77ebfd",
   "metadata": {},
   "outputs": [
    {
     "data": {
      "text/plain": [
       "6.974821488229894"
      ]
     },
     "execution_count": 9,
     "metadata": {},
     "output_type": "execute_result"
    }
   ],
   "source": [
    "y_sum = df[yCategory].sum()\n",
    "\n",
    "x_sum = df[choiceCategory].sum()\n",
    "count = df[yCategory].count()\n",
    "B0 = (y_sum - B1*x_sum)/count\n",
    "B0"
   ]
  },
  {
   "cell_type": "markdown",
   "id": "c6b45319",
   "metadata": {},
   "source": [
    "# Calculating equation of the line of best fit"
   ]
  },
  {
   "cell_type": "code",
   "execution_count": 10,
   "id": "0261bf27",
   "metadata": {
    "scrolled": true
   },
   "outputs": [
    {
     "data": {
      "text/plain": [
       "Text(0, 0.5, 'Sales')"
      ]
     },
     "execution_count": 10,
     "metadata": {},
     "output_type": "execute_result"
    },
    {
     "data": {
      "image/png": "[encoded data removed]",
      "text/plain": [
       "<Figure size 432x288 with 1 Axes>"
      ]
     },
     "metadata": {
      "needs_background": "light"
     },
     "output_type": "display_data"
    }
   ],
   "source": [
    "x = list(range(1,choiceRange))\n",
    "x = np.array(x)\n",
    "y = B0 + B1*x\n",
    "plt.scatter(df[choiceCategory],df[yCategory])\n",
    "plt.plot(x,y,'r')\n",
    "plt.title(\"Line of best fit\")\n",
    "plt.xlabel(choiceCategory)\n",
    "plt.ylabel(yCategory)"
   ]
  },
  {
   "cell_type": "markdown",
   "id": "0568d866",
   "metadata": {},
   "source": [
    "# Calculate Predicted charges for a specific person"
   ]
  },
  {
   "cell_type": "code",
   "execution_count": 11,
   "id": "032f024a",
   "metadata": {},
   "outputs": [],
   "source": [
    "def yPred(x):\n",
    "    return int(B0 + B1*x)\n",
    "    "
   ]
  },
  {
   "cell_type": "code",
   "execution_count": 12,
   "id": "1eb472f3",
   "metadata": {},
   "outputs": [
    {
     "name": "stdout",
     "output_type": "stream",
     "text": [
      "Please tell the amount spent on advertising on TV in millions\n",
      "\n"
     ]
    },
    {
     "ename": "ValueError",
     "evalue": "could not convert string to float: ''",
     "output_type": "error",
     "traceback": [
      "\u001b[0;31m---------------------------------------------------------------------------\u001b[0m",
      "\u001b[0;31mValueError\u001b[0m                                Traceback (most recent call last)",
      "\u001b[0;32m<ipython-input-12-0b38a7f842ec>\u001b[0m in \u001b[0;36m<module>\u001b[0;34m\u001b[0m\n\u001b[1;32m      1\u001b[0m \u001b[0mprint\u001b[0m\u001b[0;34m(\u001b[0m\u001b[0;34m\"Please tell the amount spent on advertising on\"\u001b[0m\u001b[0;34m,\u001b[0m\u001b[0mchoiceCategory\u001b[0m\u001b[0;34m,\u001b[0m\u001b[0;34m\"in millions\"\u001b[0m\u001b[0;34m)\u001b[0m\u001b[0;34m\u001b[0m\u001b[0;34m\u001b[0m\u001b[0m\n\u001b[0;32m----> 2\u001b[0;31m \u001b[0muserInput\u001b[0m \u001b[0;34m=\u001b[0m \u001b[0mfloat\u001b[0m\u001b[0;34m(\u001b[0m\u001b[0minput\u001b[0m\u001b[0;34m(\u001b[0m\u001b[0;34m)\u001b[0m\u001b[0;34m)\u001b[0m\u001b[0;34m\u001b[0m\u001b[0;34m\u001b[0m\u001b[0m\n\u001b[0m\u001b[1;32m      3\u001b[0m \u001b[0;31m# yPredicted = int(B0 + B1*bmiInput)*max\u001b[0m\u001b[0;34m\u001b[0m\u001b[0;34m\u001b[0m\u001b[0;34m\u001b[0m\u001b[0m\n\u001b[1;32m      4\u001b[0m \u001b[0myPredicted\u001b[0m \u001b[0;34m=\u001b[0m \u001b[0myPred\u001b[0m\u001b[0;34m(\u001b[0m\u001b[0muserInput\u001b[0m\u001b[0;34m)\u001b[0m\u001b[0;34m\u001b[0m\u001b[0;34m\u001b[0m\u001b[0m\n\u001b[1;32m      5\u001b[0m \u001b[0mprint\u001b[0m\u001b[0;34m(\u001b[0m\u001b[0;34m\"The sales will be around\"\u001b[0m\u001b[0;34m,\u001b[0m\u001b[0myPredicted\u001b[0m\u001b[0;34m,\u001b[0m\u001b[0;34m\"million units\"\u001b[0m\u001b[0;34m)\u001b[0m\u001b[0;34m\u001b[0m\u001b[0;34m\u001b[0m\u001b[0m\n",
      "\u001b[0;31mValueError\u001b[0m: could not convert string to float: ''"
     ]
    }
   ],
   "source": [
    "\n",
    "print(\"Please tell the amount spent on advertising on\",choiceCategory,\"in millions\")\n",
    "userInput = float(input())\n",
    "# yPredicted = int(B0 + B1*bmiInput)*max\n",
    "yPredicted = yPred(userInput)\n",
    "print(\"The sales will be around\",yPredicted,\"million units\")\n"
   ]
  },
  {
   "cell_type": "markdown",
   "id": "7f9651b7",
   "metadata": {},
   "source": [
    "# karl pearson coeff."
   ]
  },
  {
   "cell_type": "code",
   "execution_count": 33,
   "id": "0c3d604d",
   "metadata": {},
   "outputs": [
    {
     "data": {
      "text/plain": [
       "16271356.149999991"
      ]
     },
     "execution_count": 33,
     "metadata": {},
     "output_type": "execute_result"
    }
   ],
   "source": [
    "XY = df[choiceCategory]* df[yCategory]\n",
    "XYSum = XY.sum()\n",
    "N = len(df[yCategory])\n",
    "Num = (N*XYSum) - (df[yCategory].sum()*df[choiceCategory].sum())\n",
    "Num"
   ]
  },
  {
   "cell_type": "code",
   "execution_count": 34,
   "id": "c6addfce",
   "metadata": {},
   "outputs": [
    {
     "data": {
      "text/plain": [
       "109038468.27797925"
      ]
     },
     "execution_count": 34,
     "metadata": {},
     "output_type": "execute_result"
    }
   ],
   "source": [
    "Xsum2 = (df[choiceCategory]**2).sum()\n",
    "Ysum2 = (df[yCategory]**2).sum()\n",
    "X2 = df[choiceCategory].sum()\n",
    "Y2 = df[yCategory].sum()\n",
    "Den = math.sqrt((N*Xsum2) - X2)* math.sqrt((N*Ysum2) - Y2)\n",
    "Den"
   ]
  },
  {
   "cell_type": "code",
   "execution_count": 35,
   "id": "9d6a520f",
   "metadata": {},
   "outputs": [
    {
     "data": {
      "text/plain": [
       "0.14922583201112385"
      ]
     },
     "execution_count": 35,
     "metadata": {},
     "output_type": "execute_result"
    }
   ],
   "source": [
    "r = Num/Den\n",
    "r"
   ]
  },
  {
   "cell_type": "markdown",
   "id": "feec3e2b",
   "metadata": {},
   "source": [
    "# SST"
   ]
  },
  {
   "cell_type": "code",
   "execution_count": 36,
   "id": "f9577574",
   "metadata": {},
   "outputs": [
    {
     "data": {
      "text/plain": [
       "5555.98395"
      ]
     },
     "execution_count": 36,
     "metadata": {},
     "output_type": "execute_result"
    }
   ],
   "source": [
    "sst = (dfy**2).sum()\n",
    "sst"
   ]
  },
  {
   "cell_type": "markdown",
   "id": "72ee689c",
   "metadata": {},
   "source": [
    "# SSE"
   ]
  },
  {
   "cell_type": "code",
   "execution_count": 37,
   "id": "a0be19ee",
   "metadata": {},
   "outputs": [
    {
     "data": {
      "text/plain": [
       "1097.9899999999998"
      ]
     },
     "execution_count": 37,
     "metadata": {},
     "output_type": "execute_result"
    }
   ],
   "source": [
    "sse=0\n",
    "for i in range(len(df[choiceCategory])):\n",
    "      sse +=(df[yCategory][i] - yPred(df[choiceCategory][i]))**2\n",
    "sse"
   ]
  },
  {
   "cell_type": "markdown",
   "id": "0b996127",
   "metadata": {},
   "source": [
    "# SSR"
   ]
  },
  {
   "cell_type": "code",
   "execution_count": 38,
   "id": "5810b4b3",
   "metadata": {},
   "outputs": [
    {
     "data": {
      "text/plain": [
       "4457.99395"
      ]
     },
     "execution_count": 38,
     "metadata": {},
     "output_type": "execute_result"
    }
   ],
   "source": [
    "ssr = sst - sse\n",
    "ssr"
   ]
  },
  {
   "cell_type": "markdown",
   "id": "85c17cbd",
   "metadata": {},
   "source": [
    "# R Square"
   ]
  },
  {
   "cell_type": "code",
   "execution_count": 39,
   "id": "fdc5eba1",
   "metadata": {},
   "outputs": [
    {
     "data": {
      "text/plain": [
       "0.8023770389041531"
      ]
     },
     "execution_count": 39,
     "metadata": {},
     "output_type": "execute_result"
    }
   ],
   "source": [
    "R2 = ssr/sst\n",
    "R2"
   ]
  },
  {
   "cell_type": "markdown",
   "id": "d1b43855",
   "metadata": {},
   "source": [
    "# Standard Error of Estimate"
   ]
  },
  {
   "cell_type": "code",
   "execution_count": 40,
   "id": "2f1501d7",
   "metadata": {},
   "outputs": [
    {
     "data": {
      "text/plain": [
       "2.118950211779408"
      ]
     },
     "execution_count": 40,
     "metadata": {},
     "output_type": "execute_result"
    }
   ],
   "source": [
    "see = math.sqrt(sse/N-1)\n",
    "see"
   ]
  },
  {
   "cell_type": "markdown",
   "id": "9b11b894",
   "metadata": {},
   "source": [
    "# Linear Regression Using Inbuilt Library"
   ]
  },
  {
   "cell_type": "code",
   "execution_count": 41,
   "id": "7c4615a1",
   "metadata": {},
   "outputs": [
    {
     "name": "stdout",
     "output_type": "stream",
     "text": [
      "coefficient of determination: 0.8121757029987414\n"
     ]
    }
   ],
   "source": [
    "from sklearn.linear_model import LinearRegression\n",
    "x = df[choiceCategory].values.reshape(-1,1)\n",
    "y = df[yCategory].values\n",
    "model =LinearRegression().fit(x,y)\n",
    "r_sq = model.score(x,y)\n",
    "print('coefficient of determination:', r_sq)\n"
   ]
  },
  {
   "cell_type": "code",
   "execution_count": 42,
   "id": "e85f7226",
   "metadata": {},
   "outputs": [
    {
     "name": "stdout",
     "output_type": "stream",
     "text": [
      "According to our calculations 0.8023770389041531\n",
      "According to inbuilt method 0.8121757029987414\n"
     ]
    }
   ],
   "source": [
    "print(\"According to our calculations\", R2,)\n",
    "print(\"According to inbuilt method\",r_sq)\n"
   ]
  },
  {
   "cell_type": "code",
   "execution_count": 21,
   "id": "0a3c4964",
   "metadata": {},
   "outputs": [],
   "source": [
    "# df.corr()\n"
   ]
  },
  {
   "cell_type": "code",
   "execution_count": null,
   "id": "8bdcde5f",
   "metadata": {},
   "outputs": [],
   "source": []
  }
 ],
 "metadata": {
  "kernelspec": {
   "display_name": "Python 3",
   "language": "python",
   "name": "python3"
  },
  "language_info": {
   "codemirror_mode": {
    "name": "ipython",
    "version": 3
   },
   "file_extension": ".py",
   "mimetype": "text/x-python",
   "name": "python",
   "nbconvert_exporter": "python",
   "pygments_lexer": "ipython3",
   "version": "3.8.8"
  }
 },
 "nbformat": 4,
 "nbformat_minor": 5
}
