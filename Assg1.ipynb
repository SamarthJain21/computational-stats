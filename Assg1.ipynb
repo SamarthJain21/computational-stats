{
 "cells": [
  {
   "cell_type": "code",
   "execution_count": 1,
   "id": "f388591a",
   "metadata": {},
   "outputs": [],
   "source": [
    "from PIL import Image\n",
    "import numpy as np\n",
    "import math"
   ]
  },
  {
   "cell_type": "code",
   "execution_count": 2,
   "id": "550e2c69",
   "metadata": {},
   "outputs": [
    {
     "name": "stdout",
     "output_type": "stream",
     "text": [
      "(183, 275, 3)\n"
     ]
    }
   ],
   "source": [
    "img = Image.open(\"grayScaleImg.jpeg\")\n",
    "img = np.array(img)\n",
    "print(img.shape)\n",
    "# print(img)"
   ]
  },
  {
   "cell_type": "code",
   "execution_count": 3,
   "id": "b0f5634c",
   "metadata": {},
   "outputs": [
    {
     "name": "stdout",
     "output_type": "stream",
     "text": [
      "(549, 275)\n"
     ]
    }
   ],
   "source": [
    "img = img.reshape(183*3, 275)\n",
    "print(img.shape)"
   ]
  },
  {
   "cell_type": "markdown",
   "id": "65ef46bf",
   "metadata": {},
   "source": [
    "# Mean"
   ]
  },
  {
   "cell_type": "code",
   "execution_count": 4,
   "id": "c56da125",
   "metadata": {},
   "outputs": [],
   "source": [
    "def mean(data):\n",
    "    sum = 0\n",
    "    count = 0 \n",
    "    for i in range(0,275):\n",
    "        sum = sum + data[i]\n",
    "        count = count + 1\n",
    "    mean = sum/count\n",
    "    return mean"
   ]
  },
  {
   "cell_type": "code",
   "execution_count": 5,
   "id": "4901bc7b",
   "metadata": {},
   "outputs": [
    {
     "name": "stdout",
     "output_type": "stream",
     "text": [
      "163.31272727272727\n",
      "163.31272727272727\n"
     ]
    }
   ],
   "source": [
    "print(mean(img[1]))\n",
    "print(np.mean(img[1]))"
   ]
  },
  {
   "cell_type": "markdown",
   "id": "49261278",
   "metadata": {},
   "source": [
    "# Median"
   ]
  },
  {
   "cell_type": "code",
   "execution_count": 6,
   "id": "5a57a23f",
   "metadata": {},
   "outputs": [],
   "source": [
    "def median(data):\n",
    "    length = len(data)\n",
    "    data = sorted(data)\n",
    "    median = 0\n",
    "    if length%2==0:\n",
    "        median = (data[length/2] + data[(length/2)+1])/2\n",
    "    else:\n",
    "        median = data[(length+1)//2]\n",
    "    \n",
    "    return median"
   ]
  },
  {
   "cell_type": "code",
   "execution_count": 7,
   "id": "9091822f",
   "metadata": {},
   "outputs": [
    {
     "name": "stdout",
     "output_type": "stream",
     "text": [
      "164\n",
      "164.0\n"
     ]
    }
   ],
   "source": [
    "print(median(img[1]))\n",
    "print(np.median(img[1]))"
   ]
  },
  {
   "cell_type": "markdown",
   "id": "3e7db497",
   "metadata": {},
   "source": [
    "# Variance & Standard Deviation"
   ]
  },
  {
   "cell_type": "code",
   "execution_count": 8,
   "id": "4ded947e",
   "metadata": {},
   "outputs": [],
   "source": [
    "def variance(data):\n",
    "    sumsq = 0\n",
    "    meanData = mean(data)\n",
    "    for i in range(0,275):\n",
    "        sumsq = (sumsq + (data[i]-meanData)**2)\n",
    "        \n",
    "    variance = sumsq/(len(data)-1)\n",
    "    return variance"
   ]
  },
  {
   "cell_type": "code",
   "execution_count": 9,
   "id": "3da729e6",
   "metadata": {},
   "outputs": [
    {
     "name": "stdout",
     "output_type": "stream",
     "text": [
      "708.9164432647643\n",
      "706.3385652892563\n"
     ]
    }
   ],
   "source": [
    "print(variance(img[1]))\n",
    "print(np.var(img[1]))"
   ]
  },
  {
   "cell_type": "code",
   "execution_count": 10,
   "id": "4c3dc8a0",
   "metadata": {},
   "outputs": [],
   "source": [
    "def standardDeviation(data):\n",
    "    std = math.sqrt(variance(data))\n",
    "    return std"
   ]
  },
  {
   "cell_type": "code",
   "execution_count": 11,
   "id": "5c7ae6ac",
   "metadata": {},
   "outputs": [
    {
     "name": "stdout",
     "output_type": "stream",
     "text": [
      "26.625484845627962\n",
      "26.577030783916708\n"
     ]
    }
   ],
   "source": [
    "print(standardDeviation(img[1]))\n",
    "print(np.std(img[1]))"
   ]
  },
  {
   "cell_type": "markdown",
   "id": "8afa81d6",
   "metadata": {},
   "source": [
    "# Covariance & Correlation"
   ]
  },
  {
   "cell_type": "code",
   "execution_count": 12,
   "id": "48bef7dc",
   "metadata": {},
   "outputs": [],
   "source": [
    "def covariance(data1, data2):\n",
    "    product=0\n",
    "    for i in range(0,275):\n",
    "        product = product + ((data1[i]-mean(data1))*(data2[i]-mean(data2)))\n",
    "        product = product/274\n",
    "    return product"
   ]
  },
  {
   "cell_type": "code",
   "execution_count": 13,
   "id": "55a10551",
   "metadata": {},
   "outputs": [
    {
     "name": "stdout",
     "output_type": "stream",
     "text": [
      "-0.1393012452764294\n"
     ]
    }
   ],
   "source": [
    "print(covariance(img[1], img[0]))"
   ]
  },
  {
   "cell_type": "code",
   "execution_count": 14,
   "id": "bdc9ff6a",
   "metadata": {},
   "outputs": [],
   "source": [
    "def correlation(data1,data2):\n",
    "    correlation = covariance(data1,data2)/ (standardDeviation(data1)*standardDeviation(data2))\n",
    "    return correlation\n"
   ]
  },
  {
   "cell_type": "code",
   "execution_count": 15,
   "id": "5064724b",
   "metadata": {},
   "outputs": [
    {
     "name": "stdout",
     "output_type": "stream",
     "text": [
      "-0.00017342673768809327\n"
     ]
    }
   ],
   "source": [
    "print(correlation(img[1], img[0]))\n"
   ]
  },
  {
   "cell_type": "code",
   "execution_count": null,
   "id": "678a6218",
   "metadata": {},
   "outputs": [],
   "source": []
  }
 ],
 "metadata": {
  "kernelspec": {
   "display_name": "Python 3",
   "language": "python",
   "name": "python3"
  },
  "language_info": {
   "codemirror_mode": {
    "name": "ipython",
    "version": 3
   },
   "file_extension": ".py",
   "mimetype": "text/x-python",
   "name": "python",
   "nbconvert_exporter": "python",
   "pygments_lexer": "ipython3",
   "version": "3.8.8"
  }
 },
 "nbformat": 4,
 "nbformat_minor": 5
}
