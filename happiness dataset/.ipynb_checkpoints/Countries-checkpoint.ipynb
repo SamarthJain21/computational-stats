{
 "cells": [
  {
   "cell_type": "code",
   "execution_count": 1,
   "id": "b7ca6a45",
   "metadata": {},
   "outputs": [],
   "source": [
    "import numpy as np\n",
    "import pandas as pd\n",
    "import matplotlib.pyplot as plt\n"
   ]
  },
  {
   "cell_type": "code",
   "execution_count": 2,
   "id": "05141840",
   "metadata": {},
   "outputs": [],
   "source": [
    "# fetching all the data from all the csv files and converting to them to numpy arrays\n",
    "df_2017 = pd.read_csv('./2017.csv').to_numpy()\n",
    "df_2018 = pd.read_csv('./2018.csv').to_numpy()\n",
    "df_2019 = pd.read_csv('./2019.csv').to_numpy()"
   ]
  },
  {
   "cell_type": "code",
   "execution_count": 3,
   "id": "37095b66",
   "metadata": {},
   "outputs": [],
   "source": [
    "# Making a list of all the countries in the dataset according to 2017 data\n",
    "countries_2017 = []\n",
    "for i in range(len(df_2017)):\n",
    "    countries_2017.append((df_2017[i][1]).upper().lower())\n",
    "countries_2018 = []\n",
    "for i in range(len(df_2017)):\n",
    "    countries_2018.append((df_2018[i][1]).upper().lower())\n",
    "countries_2019 = []\n",
    "for i in range(len(df_2017)):\n",
    "    countries_2019.append((df_2019[i][1]).upper().lower())\n"
   ]
  },
  {
   "cell_type": "code",
   "execution_count": 4,
   "id": "d2b9ea1a",
   "metadata": {},
   "outputs": [],
   "source": [
    "def avg_gdp(arr):\n",
    "    gdp = [row[3] for row in arr]\n",
    "    return np.mean(gdp)\n",
    "def max_gdp(arr):\n",
    "    gdp = [row[3] for row in arr]\n",
    "    return np.max(gdp)\n",
    "def min_gdp(arr):\n",
    "    gdp = [row[3] for row in arr]\n",
    "    return np.min(gdp)\n",
    "def gdp_graph(country):   \n",
    "    print(\"GDP per capita\")\n",
    "    print(\"For year 2017\",df_2017[countries_2017.index(country)][3])\n",
    "    print(\"The average is\",avg_gdp(df_2017))\n",
    "    print(\"The maximum is\",max_gdp(df_2017))\n",
    "    print(\"The minimum is\",min_gdp(df_2017))\n",
    "    print()\n",
    "    \n",
    "    print(\"For year 2018\",df_2018[countries_2018.index(country)][3])\n",
    "    print(\"The average is\",avg_gdp(df_2018))\n",
    "    print(\"The maximum is\",max_gdp(df_2018))\n",
    "    print(\"The minimum is\",min_gdp(df_2018))\n",
    "    print()\n",
    "    \n",
    "    print(\"For year 2019\",df_2019[countries_2019.index(country)][3])\n",
    "    print(\"The average is\",avg_gdp(df_2019))\n",
    "    print(\"The maximum is\",max_gdp(df_2018))\n",
    "    print(\"The minimum is\",min_gdp(df_2019))\n",
    "    print()\n",
    "\n",
    "    gdps = [df_2017[countries_2017.index(country)][3],df_2018[countries_2018.index(country)][3],df_2019[countries_2019.index(country)][3]]\n",
    "\n",
    "    years = [2017,2018,2019]\n",
    "    # gdps = [df_2017[countries_2017.index(country)][3],df_2018[countries_2018.index(country)][3],df_2019[countries_2019.index(country)][3]]\n",
    "    avg_gdps = [avg_gdp(df_2017),avg_gdp(df_2018),avg_gdp(df_2019)]\n",
    "\n",
    "    X_axis = np.arange(len(years))\n",
    "    plt.bar(X_axis - 0.2, gdps, 0.4, label = country)\n",
    "    plt.bar(X_axis + 0.2, avg_gdps, 0.4, label = 'Average',tick_label=years)\n",
    "    plt.xlabel(\"Years\")\n",
    "    plt.ylabel(\"GDP per capita\")\n",
    "    plt.title(\"GDP per capita\")\n",
    "    plt.legend()\n",
    "    plt.show()"
   ]
  },
  {
   "cell_type": "code",
   "execution_count": 5,
   "id": "6cf8b78e",
   "metadata": {},
   "outputs": [],
   "source": [
    "def avg_health(arr):\n",
    "    health = [row[5] for row in arr]\n",
    "    return np.mean(health)\n",
    "def max_health(arr):\n",
    "    health = [row[5] for row in arr]\n",
    "    return np.max(health)\n",
    "def min_health(arr):\n",
    "    health = [row[5] for row in arr]\n",
    "    return np.min(health)\n",
    "def health_graph(country):   \n",
    "    print(\"Healthy life expectancy\")\n",
    "    print(\"For year 2017\",df_2017[countries_2017.index(country)][5])\n",
    "    print(\"The average is\",avg_health(df_2017))\n",
    "    print(\"The maximum is\",max_health(df_2017))\n",
    "    print(\"The minimum is\",min_health(df_2017))\n",
    "    \n",
    "    print()\n",
    "    print(\"For year 2018\",df_2018[countries_2018.index(country)][5])\n",
    "    print(\"The average is\",avg_health(df_2018))\n",
    "    print(\"The maximum is\",max_health(df_2018))\n",
    "    print(\"The minimum is\",min_health(df_2018))\n",
    "    \n",
    "    print()\n",
    "    print(\"For year 2019\",df_2019[countries_2019.index(country)][5])\n",
    "    print(\"The average is\",avg_health(df_2019))\n",
    "    print(\"The maximum is\",max_health(df_2019))\n",
    "    print(\"The minimum is\",min_health(df_2019))\n",
    "    \n",
    "    print()\n",
    "\n",
    "    healths = [df_2017[countries_2017.index(country)][3],df_2018[countries_2018.index(country)][3],df_2019[countries_2019.index(country)][3]]\n",
    "\n",
    "    years = [2017,2018,2019]\n",
    "    # gdps = [df_2017[countries_2017.index(country)][3],df_2018[countries_2018.index(country)][3],df_2019[countries_2019.index(country)][3]]\n",
    "    avg_healths = [avg_health(df_2017),avg_health(df_2018),avg_health(df_2019)]\n",
    "\n",
    "    X_axis = np.arange(len(years))\n",
    "    plt.bar(X_axis - 0.2, healths, 0.4, label = country)\n",
    "    plt.bar(X_axis + 0.2, avg_healths, 0.4, label = 'Average',tick_label=years)\n",
    "    plt.xlabel(\"Years\")\n",
    "    plt.ylabel(\"Healthy life expectancy\")\n",
    "    plt.title(\"Healthy life expectancy\")\n",
    "    plt.legend()\n",
    "    plt.show()"
   ]
  },
  {
   "cell_type": "code",
   "execution_count": null,
   "id": "ee8ebbba",
   "metadata": {},
   "outputs": [
    {
     "name": "stdout",
     "output_type": "stream",
     "text": [
      "Please enter a valid country (all in lower case)\n",
      "\n",
      "Please enter a valid country (all in lower case)\n"
     ]
    }
   ],
   "source": [
    "country = \"\"\n",
    "while(country not in countries_2017):\n",
    "    print(\"Please enter a valid country (all in lower case)\")\n",
    "    country = input()"
   ]
  },
  {
   "cell_type": "code",
   "execution_count": 267,
   "id": "15656ec5",
   "metadata": {},
   "outputs": [
    {
     "name": "stdout",
     "output_type": "stream",
     "text": [
      "The following is the data of india\n",
      "The Overall Rank\n",
      "For year 2017 is 122\n",
      "For year 2018 is 133\n",
      "For year 2019 is 140\n",
      "As we can see the overall rank is getting worse\n"
     ]
    }
   ],
   "source": [
    "print(\"The following is the data of\",country)\n",
    "print(\"The Overall Rank\")\n",
    "print(\"For year 2017 is\",df_2017[countries_2017.index(country)][0])\n",
    "print(\"For year 2018 is\",df_2018[countries_2018.index(country)][0])\n",
    "print(\"For year 2019 is\",df_2019[countries_2019.index(country)][0])\n",
    "ranks = [df_2017[countries_2017.index(country)][0],df_2018[countries_2018.index(country)][0],df_2019[countries_2019.index(country)][0]]\n",
    "if(ranks[0]>ranks[2]):\n",
    "    if(ranks[0]-ranks[2]<=3):\n",
    "        print('As we can see the overall rank is almost the same')\n",
    "    else:\n",
    "        print('As we can see the overall rank has been improved')\n",
    "elif(ranks[0]<ranks[2]):\n",
    "    if(ranks[2]-ranks[0]<=3):\n",
    "        print('As we can see the overall rank is almost the same')\n",
    "    else:\n",
    "        print('As we can see the overall rank is getting worse')\n",
    "else:\n",
    "    print('As we can see the overall rank is the same') \n",
    "    "
   ]
  },
  {
   "cell_type": "code",
   "execution_count": 269,
   "id": "7a88e6d9",
   "metadata": {},
   "outputs": [
    {
     "name": "stdout",
     "output_type": "stream",
     "text": [
      "Enter 1 to see stats of gdp\n",
      "Enter 2 to see stats of healthy life expectancy\n",
      "1\n"
     ]
    }
   ],
   "source": [
    "print(\"Enter 1 to see stats of gdp\")\n",
    "print(\"Enter 2 to see stats of healthy life expectancy\")\n",
    "\n",
    "choice = int(input())"
   ]
  },
  {
   "cell_type": "code",
   "execution_count": 270,
   "id": "2ad5ff94",
   "metadata": {},
   "outputs": [
    {
     "name": "stdout",
     "output_type": "stream",
     "text": [
      "GDP per capita\n",
      "For year 2017 0.792221248149872\n",
      "The average is 0.9847182019463474\n",
      "The maximum is 1.87076568603516\n",
      "The minimum is 0.0\n",
      "\n",
      "For year 2018 0.721\n",
      "The average is 0.8914487179487179\n",
      "The maximum is 2.096\n",
      "The minimum is 0.0\n",
      "\n",
      "For year 2019 0.755\n",
      "The average is 0.905147435897436\n",
      "The maximum is 2.096\n",
      "The minimum is 0.0\n",
      "\n"
     ]
    },
    {
     "data": {
      "image/png": "[encoded data removed]",
      "text/plain": [
       "<Figure size 432x288 with 1 Axes>"
      ]
     },
     "metadata": {
      "needs_background": "light"
     },
     "output_type": "display_data"
    }
   ],
   "source": [
    "if(choice ==1):\n",
    "    gdp_graph(country)    \n",
    "elif(choice ==2):\n",
    "    health_graph(country)  "
   ]
  },
  {
   "cell_type": "code",
   "execution_count": null,
   "id": "5c680423",
   "metadata": {},
   "outputs": [],
   "source": []
  },
  {
   "cell_type": "code",
   "execution_count": null,
   "id": "d80ca7cf",
   "metadata": {},
   "outputs": [],
   "source": []
  },
  {
   "cell_type": "code",
   "execution_count": null,
   "id": "d8eb05d5",
   "metadata": {},
   "outputs": [],
   "source": []
  }
 ],
 "metadata": {
  "kernelspec": {
   "display_name": "Python 3",
   "language": "python",
   "name": "python3"
  },
  "language_info": {
   "codemirror_mode": {
    "name": "ipython",
    "version": 3
   },
   "file_extension": ".py",
   "mimetype": "text/x-python",
   "name": "python",
   "nbconvert_exporter": "python",
   "pygments_lexer": "ipython3",
   "version": "3.8.8"
  }
 },
 "nbformat": 4,
 "nbformat_minor": 5
}
