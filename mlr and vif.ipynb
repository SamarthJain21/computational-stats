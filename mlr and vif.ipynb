{
 "cells": [
  {
   "cell_type": "code",
   "execution_count": 3,
   "id": "e86336f1",
   "metadata": {},
   "outputs": [],
   "source": [
    "import numpy as np\n",
    "import pandas as pd\n",
    "import math\n",
    "import matplotlib.pyplot as plt\n",
    "from sklearn.linear_model import LinearRegression\n",
    "import warnings\n",
    "warnings.filterwarnings('ignore')"
   ]
  },
  {
   "cell_type": "code",
   "execution_count": 4,
   "id": "a7924fd6",
   "metadata": {},
   "outputs": [
    {
     "name": "stdout",
     "output_type": "stream",
     "text": [
      "      age  sex     bmi  children smoker    charges\n",
      "0      19  1.0  27.900         0    1.0  14.297942\n",
      "1      18  0.0  33.770         1    0.0   1.461176\n",
      "2      28  0.0  33.000         3    0.0   3.767749\n",
      "3      33  0.0  22.705         0    0.0  18.616174\n",
      "4      32  0.0  28.880         0    0.0   3.274405\n",
      "...   ...  ...     ...       ...    ...        ...\n",
      "1333   50  0.0  30.970         3    0.0   8.976412\n",
      "1334   18  1.0  31.920         0    0.0   1.867997\n",
      "1335   18  1.0  36.850         0    0.0   1.380123\n",
      "1336   21  1.0  25.800         0    0.0   1.700303\n",
      "1337   61  1.0  29.070         0    1.0  24.676539\n",
      "\n",
      "[1338 rows x 6 columns]\n"
     ]
    }
   ],
   "source": [
    "df = pd.read_csv(r'insurance.csv')\n",
    "\n",
    "max = 1\n",
    "for i in range(0,1338):\n",
    "    if(df['charges'][i]>max):\n",
    "        max = df['charges'][i]\n",
    "for i in range(0,1338):\n",
    "    df['charges'][i] = df['charges'][i]*54/max\n",
    "    \n",
    "for i in range(0,len(df)):\n",
    "    if(df['smoker'][i]==\"yes\"):\n",
    "        df['smoker'][i]=float(1.0)\n",
    "    else:\n",
    "        df['smoker'][i]=float(0)\n",
    "\n",
    "for i in range(0,len(df)):\n",
    "    if(df['sex'][i]==\"female\"):\n",
    "        df['sex'][i]=float(1.0)\n",
    "    else:\n",
    "        df['sex'][i]=float(0)\n",
    "# df.values\n",
    "df = df.drop(columns = 'region')\n",
    "\n",
    "print(df)"
   ]
  },
  {
   "cell_type": "code",
   "execution_count": 5,
   "id": "b1b51094",
   "metadata": {},
   "outputs": [],
   "source": [
    "y = df['charges']\n",
    "df = df.drop(columns = 'charges')"
   ]
  },
  {
   "cell_type": "code",
   "execution_count": 6,
   "id": "261060ce",
   "metadata": {},
   "outputs": [],
   "source": [
    "x0 = []\n",
    "for i in range(len(df)):\n",
    "    x0.append(1)\n",
    "df.insert(0,'X0',x0)"
   ]
  },
  {
   "cell_type": "code",
   "execution_count": 7,
   "id": "21b06e5d",
   "metadata": {},
   "outputs": [],
   "source": [
    "# df"
   ]
  },
  {
   "cell_type": "code",
   "execution_count": 8,
   "id": "dfaa670a",
   "metadata": {},
   "outputs": [],
   "source": [
    "def beta(X,Y):\n",
    "    X = np.array(X)\n",
    "    Y = np.array(Y) \n",
    "    beta = np.matmul(np.transpose(X),X)\n",
    "    beta = np.matmul(np.linalg.inv(beta),np.matmul(np.transpose(X),Y))\n",
    "    return beta"
   ]
  },
  {
   "cell_type": "code",
   "execution_count": 9,
   "id": "01c9cd38",
   "metadata": {},
   "outputs": [
    {
     "data": {
      "text/plain": [
       "array([-10.31480452,   0.21824676,   0.10893062,   0.27297398,\n",
       "         0.4017254 ,  20.17335051])"
      ]
     },
     "execution_count": 9,
     "metadata": {},
     "output_type": "execute_result"
    }
   ],
   "source": [
    "df.sex = df.sex.astype(float)\n",
    "df.smoker = df.smoker.astype(float)\n",
    "df.dtypes\n",
    "beta = beta(df,y)\n",
    "beta"
   ]
  },
  {
   "cell_type": "code",
   "execution_count": 10,
   "id": "3d3cf70a",
   "metadata": {},
   "outputs": [
    {
     "name": "stdout",
     "output_type": "stream",
     "text": [
      "y =  -10.096557763162076 X1 + 0.1089306173650808 X2 + 0.27297398065947426 X3 + 0.4017253970612913 X4 + 20.17335051371315 X5\n"
     ]
    }
   ],
   "source": [
    "data1 = np.array(df)\n",
    "X1 = data1[:,1]\n",
    "X2 = data1[:,2]\n",
    "X3 = data1[:,3]\n",
    "X4 = data1[:,4]\n",
    "X5 = data1[:,5]\n",
    "\n",
    "y1 = beta[0]+beta[1]*X1+beta[2]*X2+beta[3]*X3+beta[4]*X4+beta[5]*X5\n",
    "# X5.shape\n",
    "print(\"y = \",beta[0]+beta[1],'X1 +',beta[2],'X2 +',beta[3],'X3 +',+beta[4],'X4 +',beta[5],'X5')"
   ]
  },
  {
   "cell_type": "code",
   "execution_count": 11,
   "id": "bfeb7051",
   "metadata": {},
   "outputs": [],
   "source": [
    "def yPredicted(beta,X1,X2,X3,X4,X5):\n",
    "    return beta[0]+beta[1]*X1+beta[2]*X2+beta[3]*X3+beta[4]*X4+beta[5]*X5"
   ]
  },
  {
   "cell_type": "code",
   "execution_count": 12,
   "id": "9d0b21fd",
   "metadata": {},
   "outputs": [
    {
     "data": {
      "text/plain": [
       "array([11.23722742])"
      ]
     },
     "execution_count": 12,
     "metadata": {},
     "output_type": "execute_result"
    }
   ],
   "source": [
    "y1 = (y1-np.array(y))**2\n",
    "rmsq = np.sum(y)/np.shape(y)\n",
    "rmsq"
   ]
  },
  {
   "cell_type": "code",
   "execution_count": 16,
   "id": "1e8def45",
   "metadata": {},
   "outputs": [
    {
     "name": "stdout",
     "output_type": "stream",
     "text": [
      "Please tell your age\n",
      "35\n",
      "Please tell your sex (0 for male and 1 for female)\n",
      "0\n",
      "Please tell your bmi\n",
      "25\n",
      "How many children do you have?\n",
      "3\n",
      "Do you smoke(1 for yes , 0 for no)\n",
      "1\n",
      "You will have to pay approximately 30145.353983831596 rupees\n"
     ]
    }
   ],
   "source": [
    "print(\"Please tell your age\")\n",
    "age = int(input())\n",
    "print(\"Please tell your sex (0 for male and 1 for female)\")\n",
    "sex = int(input())\n",
    "print(\"Please tell your bmi\")\n",
    "bmi = float(input())\n",
    "print(\"How many children do you have?\")\n",
    "children = int(input())\n",
    "print(\"Do you smoke(1 for yes , 0 for no)\")\n",
    "smoker = int(input())\n",
    "print(\"You will have to pay approximately\",yPredicted(beta,age,sex,bmi,children,smoker)/54*max,\"rupees\")"
   ]
  },
  {
   "cell_type": "code",
   "execution_count": 14,
   "id": "0b62d291",
   "metadata": {},
   "outputs": [],
   "source": [
    "# df"
   ]
  },
  {
   "cell_type": "code",
   "execution_count": 18,
   "id": "ea781507",
   "metadata": {},
   "outputs": [],
   "source": [
    "def vif(X,Y):\n",
    "    N = X.shape[0]\n",
    "    XYsum = 0\n",
    "    Xsum = 0\n",
    "    Ysum = 0\n",
    "    X2sum = 0\n",
    "    Y2sum = 0\n",
    "    for i in range(N):\n",
    "        Xsum +=X[i]\n",
    "        Ysum +=Y[i]\n",
    "        XYsum+=X[i]*Y[i]\n",
    "        X2sum +=X[i]**2\n",
    "        Y2sum +=Y[i]**2\n",
    "    num = (N*XYsum )- (Xsum*Ysum)\n",
    "    den = math.sqrt((N*X2sum)-(Xsum**2))*math.sqrt((N*Y2sum)-(Ysum**2))\n",
    "    r= (num/den)\n",
    "    r2 = r*r\n",
    "    vif = 1/(1-r2)\n",
    "    return vif\n"
   ]
  },
  {
   "cell_type": "code",
   "execution_count": 19,
   "id": "54db3e9a",
   "metadata": {},
   "outputs": [
    {
     "name": "stdout",
     "output_type": "stream",
     "text": [
      "For age and sex 1.000435156683481\n",
      "For age and bmi 1.0120846388432325\n",
      "For age and children 1.0018068747465028\n",
      "For age and smoker 1.0006263299721196\n",
      "\n",
      "For sex and bmi 1.0021549172956072\n",
      "For sex and children 1.0002946546009635\n",
      "For sex and smoker 1.0058380108819716\n",
      "\n",
      "For bmi and children 1.0001628160549043\n",
      "For bmi and smoker 1.0000140658923153\n",
      "\n",
      "For children and smoker 1.0000588802419355\n",
      "\n",
      "VIF for all the columns is less than 5 and greater than 1, therefore moderately multicolinear\n"
     ]
    }
   ],
   "source": [
    "print(\"For age and sex\",vif(X1,X2))\n",
    "print(\"For age and bmi\",vif(X1,X3))\n",
    "print(\"For age and children\",vif(X1,X4))\n",
    "print(\"For age and smoker\",vif(X1,X5))\n",
    "print()\n",
    "print(\"For sex and bmi\",vif(X2,X3))\n",
    "print(\"For sex and children\",vif(X2,X4))\n",
    "print(\"For sex and smoker\",vif(X2,X5))\n",
    "print()\n",
    "print(\"For bmi and children\",vif(X3,X4))\n",
    "print(\"For bmi and smoker\",vif(X3,X5))\n",
    "print()\n",
    "print(\"For children and smoker\",vif(X4,X5))\n",
    "print()\n",
    "print(\"VIF for all the columns is less than 5 and greater than 1, therefore moderately multicolinear\")"
   ]
  },
  {
   "cell_type": "code",
   "execution_count": null,
   "id": "7b2a3db0",
   "metadata": {},
   "outputs": [],
   "source": []
  },
  {
   "cell_type": "code",
   "execution_count": null,
   "id": "085eb089",
   "metadata": {},
   "outputs": [],
   "source": []
  }
 ],
 "metadata": {
  "kernelspec": {
   "display_name": "Python 3",
   "language": "python",
   "name": "python3"
  },
  "language_info": {
   "codemirror_mode": {
    "name": "ipython",
    "version": 3
   },
   "file_extension": ".py",
   "mimetype": "text/x-python",
   "name": "python",
   "nbconvert_exporter": "python",
   "pygments_lexer": "ipython3",
   "version": "3.8.8"
  }
 },
 "nbformat": 4,
 "nbformat_minor": 5
}
